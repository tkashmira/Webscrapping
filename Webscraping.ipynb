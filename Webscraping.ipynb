{
 "cells": [
  {
   "cell_type": "code",
   "execution_count": 1,
   "metadata": {},
   "outputs": [
    {
     "name": "stdout",
     "output_type": "stream",
     "text": [
      "Collecting bs4\n",
      "  Downloading bs4-0.0.1.tar.gz (1.1 kB)\n",
      "  Preparing metadata (setup.py) ... \u001b[?25ldone\n",
      "\u001b[?25hCollecting beautifulsoup4\n",
      "  Downloading beautifulsoup4-4.10.0-py3-none-any.whl (97 kB)\n",
      "     |████████████████████████████████| 97 kB 7.8 MB/s             \n",
      "\u001b[?25hCollecting soupsieve>1.2\n",
      "  Downloading soupsieve-2.3.1-py3-none-any.whl (37 kB)\n",
      "Building wheels for collected packages: bs4\n",
      "  Building wheel for bs4 (setup.py) ... \u001b[?25ldone\n",
      "\u001b[?25h  Created wheel for bs4: filename=bs4-0.0.1-py3-none-any.whl size=1271 sha256=9205e432894bdfac9eee9196d86a325914866b5705891ee6c938719e9651517f\n",
      "  Stored in directory: /home/jupyterlab/.cache/pip/wheels/0a/9e/ba/20e5bbc1afef3a491f0b3bb74d508f99403aabe76eda2167ca\n",
      "Successfully built bs4\n",
      "Installing collected packages: soupsieve, beautifulsoup4, bs4\n",
      "Successfully installed beautifulsoup4-4.10.0 bs4-0.0.1 soupsieve-2.3.1\n"
     ]
    }
   ],
   "source": [
    "#!pip install pandas\n",
    "!pip install bs4\n",
    "#!pip install requests"
   ]
  },
  {
   "cell_type": "markdown",
   "metadata": {},
   "source": [
    "\n",
    "Import any additional libraries you may need here.\n"
   ]
  },
  {
   "cell_type": "code",
   "execution_count": 3,
   "metadata": {},
   "outputs": [],
   "source": [
    "from bs4 import BeautifulSoup\n",
    "import requests\n",
    "import pandas as pd"
   ]
  },
  {
   "cell_type": "markdown",
   "metadata": {},
   "source": [
    "The wikipedia webpage [https://en.wikipedia.org/wiki/List_of_largest_banks](https://en.wikipedia.org/wiki/List_of_largest_banks?utm_medium=Exinfluencer&utm_source=Exinfluencer&utm_content=000026UJ&utm_term=10006555&utm_id=NA-SkillsNetwork-Channel-SkillsNetworkCoursesIBMDeveloperSkillsNetworkPY0221ENSkillsNetwork23455645-2021-01-01) provides information about largest banks in the world by various parameters. Scrape the data from the table 'By market capitalization' and store it in a JSON file.\n"
   ]
  },
  {
   "cell_type": "markdown",
   "metadata": {},
   "source": [
    "\n",
    "Gather the contents of the webpage in text format using the `requests` library and assign it to the variable <code>html_data</code>\n"
   ]
  },
  {
   "cell_type": "code",
   "execution_count": 4,
   "metadata": {},
   "outputs": [
    {
     "name": "stdout",
     "output_type": "stream",
     "text": [
      "    Rank                                Bank name  Market cap(US$ billion)\n",
      "0      1                           JPMorgan Chase                   368.78\n",
      "1      2  Industrial and Commercial Bank of China                   295.65\n",
      "2      3                          Bank of America                   279.73\n",
      "3      4                              Wells Fargo                   214.34\n",
      "4      5                  China Construction Bank                   207.98\n",
      "5      6               Agricultural Bank of China                   181.49\n",
      "6      7                        HSBC Holdings PLC                   169.47\n",
      "7      8                           Citigroup Inc.                   163.58\n",
      "8      9                            Bank of China                   151.15\n",
      "9     10                     China Merchants Bank                   133.37\n",
      "10    11                     Royal Bank of Canada                   113.80\n",
      "11    12                    Toronto-Dominion Bank                   106.61\n",
      "12    13                        Commonwealth Bank                    99.77\n",
      "13    14                            Itaú Unibanco                    85.68\n",
      "14    15                             U.S. Bancorp                    84.40\n",
      "15    16                            Goldman Sachs                    78.70\n",
      "16    17                          Banco Santander                    75.47\n",
      "17    18                           Banco Bradesco                    74.67\n",
      "18    19                           Morgan Stanley                    73.93\n",
      "19    20                                  Westpac                    67.84\n",
      "20    21           Mitsubishi UFJ Financial Group                    66.20\n",
      "21    22                               Scotiabank                    65.48\n",
      "22    23                   PNC Financial Services                    63.11\n",
      "23    24                   Bank of Communications                    61.85\n",
      "24    25                              BNP Paribas                    59.36\n",
      "25    26  Australia and New Zealand Banking Group                    54.88\n",
      "26    27                  National Australia Bank                    51.68\n",
      "27    28                     Lloyds Banking Group                    51.19\n",
      "28    29          Sumitomo Mitsui Financial Group                    49.85\n",
      "29    30                         Bank of Montreal                    48.12\n",
      "30    31                                      UBS                    45.92\n",
      "31    32                                ING Group                    44.97\n",
      "32    33                              Capital One                    43.22\n",
      "33    34              The Bank of New York Mellon                    42.58\n",
      "34    35                      China Minsheng Bank                    39.13\n",
      "35    36                         China CITIC Bank                    38.55\n",
      "36    37          Banco Bilbao Vizcaya Argentaria                    37.42\n",
      "37    38                   Mizuho Financial Group                    36.95\n",
      "38    39                          Intesa Sanpaolo                    36.90\n",
      "39    40                          Crédit Agricole                    34.89\n",
      "40    41       Canadian Imperial Bank of Commerce                    34.87\n",
      "41    42                   Royal Bank of Scotland                    33.95\n",
      "42    43                                 Barclays                    33.26\n",
      "43    44                            Credit Suisse                    30.75\n",
      "44    45                                   Nordea                    29.59\n",
      "45    46                       Standard Chartered                    29.37\n",
      "46    47                                 KBC Bank                    27.40\n",
      "47    48                                UniCredit                    26.88\n",
      "48    49                         Société Générale                    21.27\n",
      "49    50                            Deutsche Bank                    15.77\n"
     ]
    }
   ],
   "source": [
    "import pandas as pd\n",
    "#url \n",
    "url =\"https://en.wikipedia.org/wiki/List_of_largest_banks\"\n",
    "df_list = pd.read_html(url)\n",
    "\n",
    "##load 2nd table \n",
    "df = df_list[3]\n",
    "print(df)"
   ]
  },
  {
   "cell_type": "code",
   "execution_count": 8,
   "metadata": {},
   "outputs": [],
   "source": [
    "df.to_json(r'File Name.json')\n"
   ]
  },
  {
   "cell_type": "code",
   "execution_count": 9,
   "metadata": {},
   "outputs": [
    {
     "data": {
      "text/html": [
       "<div>\n",
       "<style scoped>\n",
       "    .dataframe tbody tr th:only-of-type {\n",
       "        vertical-align: middle;\n",
       "    }\n",
       "\n",
       "    .dataframe tbody tr th {\n",
       "        vertical-align: top;\n",
       "    }\n",
       "\n",
       "    .dataframe thead th {\n",
       "        text-align: right;\n",
       "    }\n",
       "</style>\n",
       "<table border=\"1\" class=\"dataframe\">\n",
       "  <thead>\n",
       "    <tr style=\"text-align: right;\">\n",
       "      <th></th>\n",
       "      <th>Rank</th>\n",
       "      <th>Bank name</th>\n",
       "      <th>Market cap(US$ billion)</th>\n",
       "    </tr>\n",
       "  </thead>\n",
       "  <tbody>\n",
       "  </tbody>\n",
       "</table>\n",
       "</div>"
      ],
      "text/plain": [
       "Empty DataFrame\n",
       "Columns: [Rank, Bank name, Market cap(US$ billion)]\n",
       "Index: []"
      ]
     },
     "execution_count": 9,
     "metadata": {},
     "output_type": "execute_result"
    }
   ],
   "source": [
    "df[101:124]\n"
   ]
  },
  {
   "cell_type": "markdown",
   "metadata": {},
   "source": [
    "\n",
    "\n",
    "Using the contents and `beautiful soup` load the data from the `By market capitalization` table into a `pandas` dataframe. The dataframe should have the country `Name` and `Market Cap (US$ Billion)` as column names.  Display the first five rows using head.\n"
   ]
  },
  {
   "cell_type": "markdown",
   "metadata": {},
   "source": [
    "Using BeautifulSoup parse the contents of the webpage.\n"
   ]
  },
  {
   "cell_type": "code",
   "execution_count": 10,
   "metadata": {},
   "outputs": [
    {
     "name": "stdout",
     "output_type": "stream",
     "text": [
      "   Rank                                Bank name  Market cap(US$ billion)\n",
      "0     1                           JPMorgan Chase                   368.78\n",
      "1     2  Industrial and Commercial Bank of China                   295.65\n",
      "2     3                          Bank of America                   279.73\n",
      "3     4                              Wells Fargo                   214.34\n",
      "4     5                  China Construction Bank                   207.98\n"
     ]
    }
   ],
   "source": [
    "soup=print(df.head())"
   ]
  },
  {
   "cell_type": "markdown",
   "metadata": {},
   "source": [
    "Load the data from the `By market capitalization` table into a pandas dataframe. The dataframe should have the country `Name` and `Market Cap (US$ Billion)` as column names. Using the empty dataframe `data` and the given loop extract the necessary data from each row and append it to the empty dataframe.\n"
   ]
  },
  {
   "cell_type": "code",
   "execution_count": null,
   "metadata": {},
   "outputs": [],
   "source": [
    "data = pd.DataFrame(columns=[\"Name\", \"Market Cap (US$ Billion)\"])\n",
    "\n",
    "for row in soup.find_all('tbody')[3].find_all('tr'):\n",
    "    col = row.find_all('td')\n",
    "    "
   ]
  },
  {
   "cell_type": "markdown",
   "metadata": {},
   "source": [
    "Display the first five rows using the `head` function.\n"
   ]
  },
  {
   "cell_type": "code",
   "execution_count": null,
   "metadata": {},
   "outputs": [],
   "source": [
    "print(df.head())"
   ]
  },
  {
   "cell_type": "markdown",
   "metadata": {},
   "source": [
    "\n",
    "Usually you will Load the `pandas` dataframe created above into a JSON named `bank_market_cap.json` using the `to_json()` function, but this time the data will be sent to another team who will split the data file into two files and inspect it. If you save the data it will interfere with the next part of the assignment.\n"
   ]
  },
  {
   "cell_type": "code",
   "execution_count": null,
   "metadata": {},
   "outputs": [],
   "source": [
    "print(df)\n"
   ]
  }
 ],
 "metadata": {
  "kernelspec": {
   "display_name": "Python",
   "language": "python",
   "name": "conda-env-python-py"
  },
  "language_info": {
   "codemirror_mode": {
    "name": "ipython",
    "version": 3
   },
   "file_extension": ".py",
   "mimetype": "text/x-python",
   "name": "python",
   "nbconvert_exporter": "python",
   "pygments_lexer": "ipython3",
   "version": "3.7.12"
  }
 },
 "nbformat": 4,
 "nbformat_minor": 4
}
